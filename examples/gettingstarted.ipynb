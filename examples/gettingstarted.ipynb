{
 "cells": [
  {
   "cell_type": "code",
   "execution_count": 14,
   "metadata": {},
   "outputs": [],
   "source": [
    "from os.path import join\n",
    "from pynumad import Blade"
   ]
  },
  {
   "cell_type": "code",
   "execution_count": 15,
   "metadata": {},
   "outputs": [],
   "source": [
    "excel_path = join(\"example_data\",\"blade.xlsx\")\n",
    "yaml_path = join(\"example_data\",\"blade.yaml\")"
   ]
  },
  {
   "cell_type": "code",
   "execution_count": 16,
   "metadata": {},
   "outputs": [
    {
     "data": {
      "text/plain": [
       "<pynumad.objects.blade.Blade at 0x7f1db210fad0>"
      ]
     },
     "execution_count": 16,
     "metadata": {},
     "output_type": "execute_result"
    }
   ],
   "source": [
    "excel_blade = Blade()\n",
    "excel_blade.read_excel(excel_path)"
   ]
  },
  {
   "cell_type": "code",
   "execution_count": 17,
   "metadata": {},
   "outputs": [
    {
     "data": {
      "text/plain": [
       "array([3.386     , 3.386     , 3.386     , 4.557     , 4.652     ,\n",
       "       4.50603872, 4.249     , 4.007     , 3.748     , 3.502     ,\n",
       "       3.256     , 3.01      , 2.764     , 2.518     , 2.313     ,\n",
       "       2.086     , 1.419     , 1.0855    ])"
      ]
     },
     "execution_count": 17,
     "metadata": {},
     "output_type": "execute_result"
    }
   ],
   "source": [
    "excel_blade.definition.chord"
   ]
  },
  {
   "cell_type": "code",
   "execution_count": 18,
   "metadata": {},
   "outputs": [],
   "source": [
    "yaml_blade = Blade(yaml_path)"
   ]
  },
  {
   "cell_type": "code",
   "execution_count": 19,
   "metadata": {},
   "outputs": [
    {
     "data": {
      "text/plain": [
       "array([4.5       , 4.51653455, 4.59255455, 4.72026865, 4.87845037,\n",
       "       5.04235972, 5.18880397, 5.29555399, 5.33889615, 5.27996547,\n",
       "       5.13049713, 4.93201208, 4.72694825, 4.52910314, 4.30815493,\n",
       "       4.07109567, 3.83078655, 3.59377787, 3.3535724 , 3.10972681,\n",
       "       2.86394905, 2.61780457, 2.37255549, 2.12536608, 1.87360817,\n",
       "       1.6133977 , 1.34551447, 1.07050448, 0.78813172, 0.5       ])"
      ]
     },
     "execution_count": 19,
     "metadata": {},
     "output_type": "execute_result"
    }
   ],
   "source": [
    "yaml_blade.definition.chord"
   ]
  }
 ],
 "metadata": {
  "kernelspec": {
   "display_name": "pynumad_dev",
   "language": "python",
   "name": "python3"
  },
  "language_info": {
   "codemirror_mode": {
    "name": "ipython",
    "version": 3
   },
   "file_extension": ".py",
   "mimetype": "text/x-python",
   "name": "python",
   "nbconvert_exporter": "python",
   "pygments_lexer": "ipython3",
   "version": "3.11.4"
  },
  "orig_nbformat": 4,
  "vscode": {
   "interpreter": {
    "hash": "ba674c09f1f0848b2fbf056d887b4fc7c439e19ef790e5a5121ff7e500d5b97d"
   }
  }
 },
 "nbformat": 4,
 "nbformat_minor": 2
}
